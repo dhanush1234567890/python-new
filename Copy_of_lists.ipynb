{
  "nbformat": 4,
  "nbformat_minor": 0,
  "metadata": {
    "colab": {
      "name": "Copy of lists.ipynb",
      "provenance": [],
      "authorship_tag": "ABX9TyOYpnOLEZlrk48yO9UaknLa",
      "include_colab_link": true
    },
    "kernelspec": {
      "name": "python3",
      "display_name": "Python 3"
    },
    "language_info": {
      "name": "python"
    }
  },
  "cells": [
    {
      "cell_type": "markdown",
      "metadata": {
        "id": "view-in-github",
        "colab_type": "text"
      },
      "source": [
        "<a href=\"https://colab.research.google.com/github/dhanush1234567890/python-new/blob/module-2/Copy_of_lists.ipynb\" target=\"_parent\"><img src=\"https://colab.research.google.com/assets/colab-badge.svg\" alt=\"Open In Colab\"/></a>"
      ]
    },
    {
      "cell_type": "code",
      "execution_count": null,
      "metadata": {
        "colab": {
          "base_uri": "https://localhost:8080/"
        },
        "id": "caViuEZa79da",
        "outputId": "ed061074-6d29-45a0-8345-8bdd846fcbe2"
      },
      "outputs": [
        {
          "output_type": "stream",
          "name": "stdout",
          "text": [
            "('apple', 'banana', 'mango', 'pineapple', 'papaya')\n",
            "('apple', 'banana', 'mango')\n",
            "mango\n",
            "('dairy milk', 'five star', 'milky bar', 'chocos', 'black berry')\n",
            "('dairy milk', 'five star')\n",
            "chocos\n",
            "['apple', 'banana', 'mango', 'pineapple', 'papaya']\n",
            "['apple', 'banana', 'mango', 'pineapple', 'papaya', 'star fruit']\n",
            "['orange', 'apple', 'banana', 'mango', 'pineapple', 'papaya', 'star fruit']\n",
            "('apple', 'banana', 'mango', 'pineapple', 'papaya')\n",
            "['1', '2', '3', '4', '5', '6']\n",
            "['1', '2', '4', '5', '6']\n",
            "['1', '4', '5']\n",
            "['1', '4', '5']\n",
            "[10, 20, 40, 50, 303]\n"
          ]
        },
        {
          "output_type": "execute_result",
          "data": {
            "text/plain": [
              "[10, 20, 40, 50, 303]"
            ]
          },
          "metadata": {},
          "execution_count": 1
        }
      ],
      "source": [
        "fruits=(\"apple\",\"banana\",\"mango\",\"pineapple\",\"papaya\")\n",
        "print(fruits)\n",
        "print(fruits[0:3])\n",
        "print(fruits[2])\n",
        "('apple', 'banana', 'mango', 'pineapple', 'papaya')\n",
        "('apple', 'banana', 'mango')\n",
        "choclates=(\"dairy milk\",\"five star\",\"milky bar\",\"chocos\",\"black berry\")\n",
        "print(choclates)\n",
        "print(choclates[0:2])\n",
        "print(choclates[3])\n",
        "('dairy milk', 'five star', 'milky bar', 'chocos', 'black berry')\n",
        "('dairy milk', 'five star')\n",
        "fruit=[\"apple\",\"banana\",\"mango\",\"pineapple\",\"papaya\"]\n",
        "print(fruit)\n",
        "fruit.append(\"star fruit\")\n",
        "print(fruit)\n",
        "## inserting int list\n",
        "fruit.insert(0,\"orange\")\n",
        "print(fruit)\n",
        "## removing from the list\n",
        "fruit.remove(\"star fruit\")\n",
        "print (fruits)\n",
        "['apple', 'banana', 'mango', 'pineapple', 'papaya']\n",
        "['apple', 'banana', 'mango', 'pineapple', 'papaya', 'star fruit']\n",
        "['orange', 'apple', 'banana', 'mango', 'pineapple', 'papaya', 'star fruit']\n",
        "('apple', 'banana', 'mango', 'pineapple', 'papaya')\n",
        "numbers=[\"1\",\"2\",\"3\",\"4\",\"5\",\"6\"]\n",
        "print(numbers)\n",
        "#pop and remove \n",
        "numbers.remove(\"3\")\n",
        "print(numbers)\n",
        "numbers.pop(4)\n",
        "#delete\n",
        "del numbers[1]\n",
        "print(numbers)\n",
        "#clear the list content\n",
        "print(numbers)\n",
        "#SORT\n",
        "num=[10,20,303,40,50]\n",
        "num.sort()\n",
        "print(num)\n",
        "#sort is descending\n",
        "num\n",
        "['1', '2', '3', '4', '5', '6']\n",
        "['1', '2', '4', '5', '6']\n",
        "['1', '4', '5']\n",
        "['1', '4', '5']\n",
        "[10, 20, 40, 50, 303]\n",
        "[10, 20, 40, 50, 303]"
      ]
    }
  ]
}