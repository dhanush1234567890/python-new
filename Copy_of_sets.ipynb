{
  "nbformat": 4,
  "nbformat_minor": 0,
  "metadata": {
    "colab": {
      "name": "Copy of sets.ipynb",
      "provenance": [],
      "authorship_tag": "ABX9TyPjx6c77j+aL43WQeX3EwXb",
      "include_colab_link": true
    },
    "kernelspec": {
      "name": "python3",
      "display_name": "Python 3"
    },
    "language_info": {
      "name": "python"
    }
  },
  "cells": [
    {
      "cell_type": "markdown",
      "metadata": {
        "id": "view-in-github",
        "colab_type": "text"
      },
      "source": [
        "<a href=\"https://colab.research.google.com/github/dhanush1234567890/python-new/blob/module-2/Copy_of_sets.ipynb\" target=\"_parent\"><img src=\"https://colab.research.google.com/assets/colab-badge.svg\" alt=\"Open In Colab\"/></a>"
      ]
    },
    {
      "cell_type": "code",
      "execution_count": null,
      "metadata": {
        "colab": {
          "base_uri": "https://localhost:8080/"
        },
        "id": "4aR8-kq-5L2X",
        "outputId": "e1870eda-18d2-402e-a07a-40c23777a261"
      },
      "outputs": [
        {
          "output_type": "stream",
          "name": "stdout",
          "text": [
            "{'bhanu', 'rakshitha', 'dhanush'}\n",
            "True\n",
            "{'venkat', 'bhanu', 'rakshitha', 'dhanush'}\n",
            "{'rakshitha', 'akhila', 'bhanu', 'venkat', 'dhanush'}\n",
            "{'bhanu', 'rakshitha'}\n",
            "{'rakshitha', 'dhanush'}\n",
            "bhanu\n",
            "{'rakshitha', 'dhanush'}\n",
            "set()\n",
            "{'bhanu', 'rakshitha', 'dhanush'}\n",
            "bhanu\n",
            "rakshitha\n",
            "dhanush\n",
            "{'rakshitha', 'akhila', 'bhanu', 'venkat', 'dhanush'}\n",
            "{'rakshitha', 'akhila', 'bhanu', 'venkat', 'dhanush'}\n"
          ]
        }
      ],
      "source": [
        "#PYTHON SETS\n",
        "a={\"rakshitha\",\"dhanush\",\"bhanu\"}\n",
        "print(a)\n",
        "\n",
        "#ACCESS SET ITEMS\n",
        "a={\"rakshitha\",\"dhanush\",\"bhanu\"}\n",
        "print(\"bhanu\" in a)\n",
        "\n",
        "#ADD SET ITEMS\n",
        "a={\"rakshitha\",\"dhanush\",\"bhanu\"}\n",
        "a.add(\"venkat\")\n",
        "print(a)\n",
        "\n",
        "a={\"rakshitha\",\"dhanush\",\"bhanu\"}\n",
        "b={\"venkat\",\"akhila\"}\n",
        "a.update(b)\n",
        "print(a)\n",
        "\n",
        "#REMOVE SET ITEMS\n",
        "a={\"rakshitha\",\"dhanush\",\"bhanu\"}\n",
        "a.remove(\"dhanush\")\n",
        "print(a)\n",
        "\n",
        "a={\"rakshitha\",\"dhanush\",\"bhanu\"}\n",
        "a.discard(\"bhanu\")\n",
        "print(a)\n",
        "\n",
        "a={\"rakshitha\",\"dhanush\",\"bhanu\"}\n",
        "b=a.pop()\n",
        "print(b)\n",
        "print(a)\n",
        "\n",
        "a={\"rakshitha\",\"dhanush\",\"bhanu\"}\n",
        "a.clear()\n",
        "print(a)\n",
        "\n",
        "a = {\"rakshitha\",\"dhanush\",\"bhanu\"}\n",
        "del(b)\n",
        "print(a)\n",
        "\n",
        "#LOOP SETS\n",
        "a={\"rakshitha\",\"dhanush\",\"bhanu\"}\n",
        "for b in a:\n",
        "  print(b)\n",
        "\n",
        "\n",
        "#JOIN TWO SETS\n",
        "a={\"rakshitha\",\"dhanush\",\"bhanu\"}\n",
        "b={\"venkat\",\"akhila\"}\n",
        "c=a.union(b)\n",
        "print(c)\n",
        "\n",
        "\n",
        "a={\"rakshitha\",\"dhanush\",\"bhanu\"}\n",
        "b={\"venkat\",\"akhila\"}\n",
        "a.update(b)\n",
        "print(a)\n"
      ]
    }
  ]
}