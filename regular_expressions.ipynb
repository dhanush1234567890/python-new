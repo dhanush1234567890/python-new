{
  "nbformat": 4,
  "nbformat_minor": 0,
  "metadata": {
    "colab": {
      "name": "regular expressions.ipynb",
      "provenance": [],
      "authorship_tag": "ABX9TyMyVPQbIEkoe21od7JxuLMp",
      "include_colab_link": true
    },
    "kernelspec": {
      "name": "python3",
      "display_name": "Python 3"
    },
    "language_info": {
      "name": "python"
    }
  },
  "cells": [
    {
      "cell_type": "markdown",
      "metadata": {
        "id": "view-in-github",
        "colab_type": "text"
      },
      "source": [
        "<a href=\"https://colab.research.google.com/github/dhanush1234567890/python-new/blob/module-5/regular_expressions.ipynb\" target=\"_parent\"><img src=\"https://colab.research.google.com/assets/colab-badge.svg\" alt=\"Open In Colab\"/></a>"
      ]
    },
    {
      "cell_type": "code",
      "execution_count": 1,
      "metadata": {
        "colab": {
          "base_uri": "https://localhost:8080/"
        },
        "id": "4TJ1VpKrNtMN",
        "outputId": "ee4afd91-297f-4fa6-cdb3-fda4c7b78a44"
      },
      "outputs": [
        {
          "output_type": "stream",
          "name": "stdout",
          "text": [
            "[]\n"
          ]
        }
      ],
      "source": [
        "## Reg Ex in python\n",
        "import re\n",
        "\n",
        "txt = \"The rain in Spain\"\n",
        "x = re.findall(\"Portugal\", txt)\n",
        "print(x)"
      ]
    },
    {
      "cell_type": "code",
      "source": [
        "import re\n",
        "\n",
        "txt = \"The rain in Spain\"\n",
        "x = re.search(\"\\s\", txt)\n",
        "\n",
        "print(\"The first white-space character is located in position:\", x.start())"
      ],
      "metadata": {
        "colab": {
          "base_uri": "https://localhost:8080/"
        },
        "id": "CPtbmji9OH21",
        "outputId": "028290cc-8524-4a61-f403-f8a11b412886"
      },
      "execution_count": 2,
      "outputs": [
        {
          "output_type": "stream",
          "name": "stdout",
          "text": [
            "The first white-space character is located in position: 3\n"
          ]
        }
      ]
    },
    {
      "cell_type": "code",
      "source": [
        "import re\n",
        "\n",
        "txt = \"The rain in Spain\"\n",
        "x = re.search(\"Portugal\", txt)\n",
        "print(x)"
      ],
      "metadata": {
        "colab": {
          "base_uri": "https://localhost:8080/"
        },
        "id": "MmPZttKIOPY8",
        "outputId": "1bd87f1f-bfe8-4873-fa57-7730e8c5988a"
      },
      "execution_count": 3,
      "outputs": [
        {
          "output_type": "stream",
          "name": "stdout",
          "text": [
            "None\n"
          ]
        }
      ]
    },
    {
      "cell_type": "code",
      "source": [
        "## split at each white space character\n",
        "import re\n",
        "\n",
        "txt = \"The rain in Spain\"\n",
        "x = re.split(\"\\s\", txt)\n",
        "print(x)"
      ],
      "metadata": {
        "colab": {
          "base_uri": "https://localhost:8080/"
        },
        "id": "9JzIInyfOWN0",
        "outputId": "457c10a0-2a09-4190-a432-8532983d56df"
      },
      "execution_count": 5,
      "outputs": [
        {
          "output_type": "stream",
          "name": "stdout",
          "text": [
            "['The', 'rain', 'in', 'Spain']\n"
          ]
        }
      ]
    },
    {
      "cell_type": "code",
      "source": [
        "text = \"hi i want to go to movie\""
      ],
      "metadata": {
        "id": "MtWMdSw1OlcE"
      },
      "execution_count": 6,
      "outputs": []
    },
    {
      "cell_type": "code",
      "source": [
        "import re \n",
        "text = \"hi i want to go to movie\"\n",
        "x = re.search (\"go\",txt)\n",
        "if x:\n",
        "  print(\"YES! We have a match!\")\n",
        "else:\n",
        "  print(\"No match\")\n"
      ],
      "metadata": {
        "colab": {
          "base_uri": "https://localhost:8080/"
        },
        "id": "C4d0eWjOOpVk",
        "outputId": "52c77d1f-6bfe-44fe-92c5-73bb52709709"
      },
      "execution_count": 7,
      "outputs": [
        {
          "output_type": "stream",
          "name": "stdout",
          "text": [
            "No match\n"
          ]
        }
      ]
    },
    {
      "cell_type": "code",
      "source": [
        "## find all\n",
        "import re\n",
        "text = \"hi i want to go to movie\"\n",
        "x = re.findall(\"i\", txt)\n",
        "print(x)"
      ],
      "metadata": {
        "colab": {
          "base_uri": "https://localhost:8080/"
        },
        "id": "8cxAcoiAO6eE",
        "outputId": "75ba7d67-99c5-4211-ed7e-28911bc22504"
      },
      "execution_count": 8,
      "outputs": [
        {
          "output_type": "stream",
          "name": "stdout",
          "text": [
            "['i', 'i', 'i']\n"
          ]
        }
      ]
    },
    {
      "cell_type": "code",
      "source": [
        "## find all\n",
        "import re\n",
        "text = \"hi i want to go to movie\"\n",
        "x = re.findall(\"i\", txt)\n",
        "print(x)"
      ],
      "metadata": {
        "colab": {
          "base_uri": "https://localhost:8080/"
        },
        "id": "DAP-b9ouO_u2",
        "outputId": "640b1d3e-5e7b-4818-827e-730bb070116f"
      },
      "execution_count": 10,
      "outputs": [
        {
          "output_type": "stream",
          "name": "stdout",
          "text": [
            "['i', 'i', 'i']\n"
          ]
        }
      ]
    },
    {
      "cell_type": "code",
      "source": [
        "## sub function\n",
        "import re\n",
        "txt =  \"my name is dhanush and i am studying  1st year cse in gitam unversity \"\n",
        "x = re.sub(\"\\s\", \"9\", txt)\n",
        "print(x)"
      ],
      "metadata": {
        "colab": {
          "base_uri": "https://localhost:8080/"
        },
        "id": "8KSCupCZPI70",
        "outputId": "1ebf5f32-2cb3-4e3c-85b7-3e660c2b7ab2"
      },
      "execution_count": 12,
      "outputs": [
        {
          "output_type": "stream",
          "name": "stdout",
          "text": [
            "my9name9is9dhanush9and9i9am9studying991st9year9cse9in9gitam9unversity9\n"
          ]
        }
      ]
    },
    {
      "cell_type": "code",
      "source": [
        "## #Replace the first two occurrences of a white-space character with the digit 9:\n",
        "import re\n",
        "text =  \"my name is dhanush and i am studying  1st year cse in gitam unversity\"\n",
        "x = re.sub(\"\\s\", \"9\", txt, 2)\n",
        "print(x)"
      ],
      "metadata": {
        "colab": {
          "base_uri": "https://localhost:8080/"
        },
        "id": "Hf9xL6d_PWtu",
        "outputId": "8c355914-a6d0-4399-fb14-8d39abd0c683"
      },
      "execution_count": 13,
      "outputs": [
        {
          "output_type": "stream",
          "name": "stdout",
          "text": [
            "my9name9is dhanush and i am studying  1st year cse in gitam unversity \n"
          ]
        }
      ]
    },
    {
      "cell_type": "code",
      "source": [
        "# Meta characters\n",
        "## Check if the string starts with 'hello':\n",
        "import re\n",
        "txt = \"Venezuela has a crime index of 83.76, the highest of any country in the world.\"\n",
        "x = re.findall(\"^hello\", txt)\n",
        "if x:\n",
        "  print(\"Yes, the string starts with 'hello'\")\n",
        "else:\n",
        "  print(\"No match\")"
      ],
      "metadata": {
        "colab": {
          "base_uri": "https://localhost:8080/"
        },
        "id": "Nb4EBUlCPe30",
        "outputId": "a54d88f2-5814-4f1f-80c2-419ec8e2ccdf"
      },
      "execution_count": 14,
      "outputs": [
        {
          "output_type": "stream",
          "name": "stdout",
          "text": [
            "No match\n"
          ]
        }
      ]
    },
    {
      "cell_type": "code",
      "source": [
        "#Find all lower case characters alphabetically between \"a\" and \"m\":\n",
        "import re\n",
        "txt = \"Venezuela has a crime index of 73.76, the highest of any country in the world.\"\n",
        "x = re.findall(\"[a-m]\", txt)\n",
        "print(x)"
      ],
      "metadata": {
        "colab": {
          "base_uri": "https://localhost:8080/"
        },
        "id": "GQQtLHtZP22d",
        "outputId": "9cc81d06-71eb-4659-e587-1784bc93669e"
      },
      "execution_count": 15,
      "outputs": [
        {
          "output_type": "stream",
          "name": "stdout",
          "text": [
            "['e', 'e', 'e', 'l', 'a', 'h', 'a', 'a', 'c', 'i', 'm', 'e', 'i', 'd', 'e', 'f', 'h', 'e', 'h', 'i', 'g', 'h', 'e', 'f', 'a', 'c', 'i', 'h', 'e', 'l', 'd']\n"
          ]
        }
      ]
    },
    {
      "cell_type": "code",
      "source": [
        "## find all digit characters\n",
        "import re\n",
        "txt = \"Venezuela has a crime index of 73.76, the highest of any country in the world.\"\n",
        "x = re.findall(\"\\d\", txt)\n",
        "print(x)"
      ],
      "metadata": {
        "colab": {
          "base_uri": "https://localhost:8080/"
        },
        "id": "iBmJwtucP-HV",
        "outputId": "6a6fe537-a805-46aa-d0fc-9a2d2ee4a346"
      },
      "execution_count": 16,
      "outputs": [
        {
          "output_type": "stream",
          "name": "stdout",
          "text": [
            "['7', '3', '7', '6']\n"
          ]
        }
      ]
    },
    {
      "cell_type": "code",
      "source": [
        "#Search for a sequence that starts with \"he\", followed by two (any) characters, and an \"o\":\n",
        "import re\n",
        "txt = \"dhanush\"\n",
        "x = re.findall(\"an..ha\", txt)\n",
        "print(x)"
      ],
      "metadata": {
        "colab": {
          "base_uri": "https://localhost:8080/"
        },
        "id": "lS8SVZuYQIXc",
        "outputId": "1ea02c54-f184-464e-cf80-3470badeff8f"
      },
      "execution_count": 17,
      "outputs": [
        {
          "output_type": "stream",
          "name": "stdout",
          "text": [
            "[]\n"
          ]
        }
      ]
    },
    {
      "cell_type": "code",
      "source": [
        "#Check if the string ends with 'planet':\n",
        "import re\n",
        "txt = \"hello planet\"\n",
        "x = re.findall(\"planet$\", txt)\n",
        "if x:\n",
        "  print(\"Yes, the string ends with 'planet'\")\n",
        "else:\n",
        "  print(\"No match\")"
      ],
      "metadata": {
        "colab": {
          "base_uri": "https://localhost:8080/"
        },
        "id": "LfsoIpruQPKk",
        "outputId": "6ff3438a-4a1d-4ef1-eea0-ebabf93cbf78"
      },
      "execution_count": 18,
      "outputs": [
        {
          "output_type": "stream",
          "name": "stdout",
          "text": [
            "Yes, the string ends with 'planet'\n"
          ]
        }
      ]
    },
    {
      "cell_type": "code",
      "source": [
        "#Search for a sequence that starts with \"he\", followed by 0 or more  (any) characters, and an \"o\":\n",
        "import re\n",
        "txt = \"hello planet\"\n",
        "x = re.findall(\"he.*o\", txt)\n",
        "print(x)"
      ],
      "metadata": {
        "colab": {
          "base_uri": "https://localhost:8080/"
        },
        "id": "BsMKmNRYQYFs",
        "outputId": "9592b89a-a424-4d7d-c8b0-39f8eb5dddc7"
      },
      "execution_count": 19,
      "outputs": [
        {
          "output_type": "stream",
          "name": "stdout",
          "text": [
            "['hello']\n"
          ]
        }
      ]
    },
    {
      "cell_type": "code",
      "source": [
        "#Search for a sequence that starts with \"he\", followed by 1 or more  (any) characters, and an \"o\": \n",
        "import re\n",
        "txt =  \"planet\"\n",
        "x = re.findall(\"pla.et\", txt)\n",
        "print(x)"
      ],
      "metadata": {
        "colab": {
          "base_uri": "https://localhost:8080/"
        },
        "id": "v57OCuhyQbuE",
        "outputId": "e0ceadee-b540-483f-f57e-62ec53798b32"
      },
      "execution_count": 20,
      "outputs": [
        {
          "output_type": "stream",
          "name": "stdout",
          "text": [
            "['planet']\n"
          ]
        }
      ]
    },
    {
      "cell_type": "code",
      "source": [
        "#Search for a sequence that starts with \"he\", followed by 0 or 1  (any) character, and an \"o\":\n",
        "import re\n",
        "txt = \"hello planet\"\n",
        "x = re.findall(\"he.?o\", txt)\n",
        "print(x)"
      ],
      "metadata": {
        "colab": {
          "base_uri": "https://localhost:8080/"
        },
        "id": "SKLcWe3SQens",
        "outputId": "c0b47a91-d223-487c-d5ad-f64a31494478"
      },
      "execution_count": 21,
      "outputs": [
        {
          "output_type": "stream",
          "name": "stdout",
          "text": [
            "[]\n"
          ]
        }
      ]
    },
    {
      "cell_type": "code",
      "source": [
        "#Search for a sequence that starts with \"he\", followed excactly 2 (any) characters, and an \"o\":\n",
        "import re\n",
        "txt = \"hello planet\"\n",
        "x = re.findall(\"he.{2}o\", txt)\n",
        "print(x)"
      ],
      "metadata": {
        "colab": {
          "base_uri": "https://localhost:8080/"
        },
        "id": "geFeS9fAQheU",
        "outputId": "449194b9-3136-48f0-8fe0-98869637e78f"
      },
      "execution_count": 22,
      "outputs": [
        {
          "output_type": "stream",
          "name": "stdout",
          "text": [
            "['hello']\n"
          ]
        }
      ]
    },
    {
      "cell_type": "code",
      "source": [
        "#Check if the string contains either \"falls\" or \"stays\":\n",
        "import re\n",
        "txt = \"The rain in Spain falls mainly in the plain!\"\n",
        "x = re.findall(\"falls|stays\", txt)\n",
        "print(x)\n",
        "if x:\n",
        "  print(\"Yes, there is at least one match!\")\n",
        "else:\n",
        "  print(\"No match\")"
      ],
      "metadata": {
        "colab": {
          "base_uri": "https://localhost:8080/"
        },
        "id": "leE8z1JAQk1N",
        "outputId": "04dc00af-8895-43d4-a1f2-398df1b37b1c"
      },
      "execution_count": 23,
      "outputs": [
        {
          "output_type": "stream",
          "name": "stdout",
          "text": [
            "['falls']\n",
            "Yes, there is at least one match!\n"
          ]
        }
      ]
    },
    {
      "cell_type": "code",
      "source": [
        "### special sequences\n",
        "#Check if the string starts with \"The\":\n",
        "import re\n",
        "txt = \"The rain in Spain\"\n",
        "x = re.findall(\"\\AThe\", txt)\n",
        "print(x)\n",
        "if x:\n",
        "  print(\"Yes, there is a match!\")\n",
        "else:\n",
        "  print(\"No match\")"
      ],
      "metadata": {
        "colab": {
          "base_uri": "https://localhost:8080/"
        },
        "id": "hA_s3RanREIV",
        "outputId": "6ea78f96-2b45-4957-a4ff-8c912b0d11ac"
      },
      "execution_count": 24,
      "outputs": [
        {
          "output_type": "stream",
          "name": "stdout",
          "text": [
            "['The']\n",
            "Yes, there is a match!\n"
          ]
        }
      ]
    },
    {
      "cell_type": "code",
      "source": [
        "#Check if \"ain\" is present at the beginning of a WORD:\n",
        "import re\n",
        "txt = \"The rain in Spain\"\n",
        "x = re.findall(r\"\\bain\", txt)\n",
        "print(x)\n",
        "if x:\n",
        "  print(\"Yes, there is at least one match!\")\n",
        "else:\n",
        "  print(\"No match\")"
      ],
      "metadata": {
        "colab": {
          "base_uri": "https://localhost:8080/"
        },
        "id": "iw80OjRVRID8",
        "outputId": "b73af7b4-4274-442d-d274-6faf6176a3af"
      },
      "execution_count": 25,
      "outputs": [
        {
          "output_type": "stream",
          "name": "stdout",
          "text": [
            "[]\n",
            "No match\n"
          ]
        }
      ]
    },
    {
      "cell_type": "code",
      "source": [
        "#Check if \"ain\" is present at the beginning of a WORD:\n",
        "import re\n",
        "txt = \"I love rain\"\n",
        "x = re.findall(r\"\\bain\", txt)\n",
        "print(x)\n",
        "if x:\n",
        "  print(\"Yes, there is at least one match!\")\n",
        "else:\n",
        "  print(\"No match\")"
      ],
      "metadata": {
        "colab": {
          "base_uri": "https://localhost:8080/"
        },
        "id": "nPd5Bj1tRRam",
        "outputId": "7f940a0d-f731-40d1-ffab-e9f5e9d6bee4"
      },
      "execution_count": 26,
      "outputs": [
        {
          "output_type": "stream",
          "name": "stdout",
          "text": [
            "[]\n",
            "No match\n"
          ]
        }
      ]
    },
    {
      "cell_type": "code",
      "source": [
        "#Check if \"ain\" is present, but NOT at the beginning of a word:\n",
        "import re\n",
        "txt = \"my name is dhanush\"\n",
        "x = re.findall(r\"\\Bain\", txt)\n",
        "print(x)\n",
        "if x:\n",
        "  print(\"Yes, there is at least one match!\")\n",
        "else:\n",
        "  print(\"No match\")"
      ],
      "metadata": {
        "colab": {
          "base_uri": "https://localhost:8080/"
        },
        "id": "xBkVcjFzRVrs",
        "outputId": "c905bf10-9618-438d-bcbb-5e0610199399"
      },
      "execution_count": 27,
      "outputs": [
        {
          "output_type": "stream",
          "name": "stdout",
          "text": [
            "[]\n",
            "No match\n"
          ]
        }
      ]
    },
    {
      "cell_type": "code",
      "source": [
        "#Check if the string contains any digits (numbers from 0-9):\n",
        "import re\n",
        "txt = \"my name is dhanush\"\n",
        "x = re.findall(\"\\d\", txt)\n",
        "print(x)\n",
        "if x:\n",
        "  print(\"Yes, there is at least one match!\")\n",
        "else:\n",
        "  print(\"No match\")"
      ],
      "metadata": {
        "colab": {
          "base_uri": "https://localhost:8080/"
        },
        "id": "V5HKbeqtRdL0",
        "outputId": "ac3054c6-a8bb-4c0e-df1c-71bdc657af5e"
      },
      "execution_count": 29,
      "outputs": [
        {
          "output_type": "stream",
          "name": "stdout",
          "text": [
            "[]\n",
            "No match\n"
          ]
        }
      ]
    },
    {
      "cell_type": "code",
      "source": [
        "#Return a match at every no-digit character:\n",
        "import re\n",
        "txt = \"my name is dhanush\"\n",
        "x = re.findall(\"\\D\", txt)\n",
        "print(x)\n",
        "if x:\n",
        "  print(\"Yes, there is at least one match!\")\n",
        "else:\n",
        "  print(\"No match\")"
      ],
      "metadata": {
        "colab": {
          "base_uri": "https://localhost:8080/"
        },
        "id": "vABl4n3NRhWV",
        "outputId": "3b105949-6dc5-4a00-864d-0bff0211552f"
      },
      "execution_count": 31,
      "outputs": [
        {
          "output_type": "stream",
          "name": "stdout",
          "text": [
            "['m', 'y', ' ', 'n', 'a', 'm', 'e', ' ', 'i', 's', ' ', 'd', 'h', 'a', 'n', 'u', 's', 'h']\n",
            "Yes, there is at least one match!\n"
          ]
        }
      ]
    },
    {
      "cell_type": "code",
      "source": [
        "#Return a match at every white-space character:\n",
        "import re\n",
        "txt = \"i love icecreams\"\n",
        "x = re.findall(\"\\s\", txt)\n",
        "print(x)\n",
        "if x:\n",
        "  print(\"Yes, there is at least one match!\")\n",
        "else:\n",
        "  print(\"No match\")"
      ],
      "metadata": {
        "colab": {
          "base_uri": "https://localhost:8080/"
        },
        "id": "sSCbbvhTRuUr",
        "outputId": "2802e9f9-36be-4828-a63b-f0982859a5e5"
      },
      "execution_count": 32,
      "outputs": [
        {
          "output_type": "stream",
          "name": "stdout",
          "text": [
            "[' ', ' ']\n",
            "Yes, there is at least one match!\n"
          ]
        }
      ]
    },
    {
      "cell_type": "code",
      "source": [
        "#Return a match at every NON white-space character:\n",
        "import re\n",
        "txt = \"The rain in Spain\"\n",
        "x = re.findall(\"\\S\", txt)\n",
        "print(x)\n",
        "if x:\n",
        "  print(\"Yes, there is at least one match!\")\n",
        "else:\n",
        "  print(\"No match\")"
      ],
      "metadata": {
        "colab": {
          "base_uri": "https://localhost:8080/"
        },
        "id": "77u7QH09R3r0",
        "outputId": "d433ec75-1638-4533-da77-11872b6aa538"
      },
      "execution_count": 33,
      "outputs": [
        {
          "output_type": "stream",
          "name": "stdout",
          "text": [
            "['T', 'h', 'e', 'r', 'a', 'i', 'n', 'i', 'n', 'S', 'p', 'a', 'i', 'n']\n",
            "Yes, there is at least one match!\n"
          ]
        }
      ]
    },
    {
      "cell_type": "code",
      "source": [
        "#Return a match at every NON word character (characters NOT between a and Z. Like \"!\", \"?\" white-space etc.):\n",
        "import re\n",
        "txt = \"The rain in Spain\"\n",
        "x = re.findall(\"\\W\", txt)\n",
        "print(x)\n",
        "if x:\n",
        "  print(\"Yes, there is at least one match!\")\n",
        "else:\n",
        "  print(\"No match\")"
      ],
      "metadata": {
        "colab": {
          "base_uri": "https://localhost:8080/"
        },
        "id": "9UIYD8LOR8ss",
        "outputId": "83de281d-c10d-4bd5-aac0-70791d2fe071"
      },
      "execution_count": 34,
      "outputs": [
        {
          "output_type": "stream",
          "name": "stdout",
          "text": [
            "[' ', ' ', ' ']\n",
            "Yes, there is at least one match!\n"
          ]
        }
      ]
    },
    {
      "cell_type": "code",
      "source": [
        "#Check if the string ends with \"Spain\":\n",
        "import re\n",
        "txt = \"my name is dhanush\"\n",
        "x = re.findall(\"aqnitha\\Z\", txt)\n",
        "print(x)\n",
        "if x:\n",
        "  print(\"Yes, there is a match!\")\n",
        "else:\n",
        "  print(\"No match\")"
      ],
      "metadata": {
        "colab": {
          "base_uri": "https://localhost:8080/"
        },
        "id": "e7_6AdMkSENs",
        "outputId": "26399cec-4850-4067-bd21-c14ca906434d"
      },
      "execution_count": 35,
      "outputs": [
        {
          "output_type": "stream",
          "name": "stdout",
          "text": [
            "[]\n",
            "No match\n"
          ]
        }
      ]
    },
    {
      "cell_type": "code",
      "source": [
        "## sets\n",
        "#Check if the string has any a, r, or n characters:\n",
        "import re\n",
        "txt = \"rain\"\n",
        "x = re.findall(\"[arn]\", txt)\n",
        "print(x)\n",
        "if x:\n",
        "  print(\"Yes, there is at least one match!\")\n",
        "else:\n",
        "  print(\"No match\")"
      ],
      "metadata": {
        "colab": {
          "base_uri": "https://localhost:8080/"
        },
        "id": "Zdetx4ewSJe8",
        "outputId": "e2b2a88c-86f6-49c3-9d03-e19939120c55"
      },
      "execution_count": 36,
      "outputs": [
        {
          "output_type": "stream",
          "name": "stdout",
          "text": [
            "['r', 'a', 'n']\n",
            "Yes, there is at least one match!\n"
          ]
        }
      ]
    },
    {
      "cell_type": "code",
      "source": [
        "#Check if the string has any characters between a and n:\n",
        "import re\n",
        "txt = \"dhanush\"\n",
        "x = re.findall(\"[a-n]\", txt)\n",
        "print(x)\n",
        "if x:\n",
        "  print(\"Yes, there is at least one match!\")\n",
        "else:\n",
        "  print(\"No match\")"
      ],
      "metadata": {
        "colab": {
          "base_uri": "https://localhost:8080/"
        },
        "id": "VD8Ct9nlSMiU",
        "outputId": "c4571b72-27b7-46bf-9a1b-46741f15084b"
      },
      "execution_count": 37,
      "outputs": [
        {
          "output_type": "stream",
          "name": "stdout",
          "text": [
            "['d', 'h', 'a', 'n', 'h']\n",
            "Yes, there is at least one match!\n"
          ]
        }
      ]
    },
    {
      "cell_type": "code",
      "source": [
        "#Check if the string has other characters than a, r, or n:\n",
        "import re\n",
        "txt = \"earnings\"\n",
        "x = re.findall(\"[^arn]\", txt)\n",
        "print(x)\n",
        "if x:\n",
        "  print(\"Yes, there is at least one match!\")\n",
        "else:\n",
        "  print(\"No match\")"
      ],
      "metadata": {
        "colab": {
          "base_uri": "https://localhost:8080/"
        },
        "id": "MyF0bezSSRgE",
        "outputId": "5392b4e9-a3ec-4496-c442-4e52515cb861"
      },
      "execution_count": 38,
      "outputs": [
        {
          "output_type": "stream",
          "name": "stdout",
          "text": [
            "['e', 'i', 'g', 's']\n",
            "Yes, there is at least one match!\n"
          ]
        }
      ]
    },
    {
      "cell_type": "code",
      "source": [
        "#Check if the string has any 0, 1, 2, or 3 digits:\n",
        "import re\n",
        "txt = \"my name is dhanush\"\n",
        "x = re.findall(\"[0123]\", txt)\n",
        "print(x)\n",
        "if x:\n",
        "  print(\"Yes, there is at least one match!\")\n",
        "else:\n",
        "  print(\"No match\")"
      ],
      "metadata": {
        "colab": {
          "base_uri": "https://localhost:8080/"
        },
        "id": "2nackncsSU80",
        "outputId": "c3c6173b-288c-461d-d9b2-6244cc6c2fde"
      },
      "execution_count": 39,
      "outputs": [
        {
          "output_type": "stream",
          "name": "stdout",
          "text": [
            "[]\n",
            "No match\n"
          ]
        }
      ]
    },
    {
      "cell_type": "code",
      "source": [
        "#Check if the string has any digits:\n",
        "import re\n",
        "txt = \"8 times before 11;00 AM\"\n",
        "x = re.findall(\"[0-9]\", txt)\n",
        "print(x)\n",
        "if x:\n",
        "  print(\"Yes, there is at least one match!\")\n",
        "else:\n",
        "  print(\"No match\")"
      ],
      "metadata": {
        "colab": {
          "base_uri": "https://localhost:8080/"
        },
        "id": "SP_GXg1gSaWM",
        "outputId": "fce1d345-2462-43b6-adb6-1e6396aa1a18"
      },
      "execution_count": 40,
      "outputs": [
        {
          "output_type": "stream",
          "name": "stdout",
          "text": [
            "['8', '1', '1', '0', '0']\n",
            "Yes, there is at least one match!\n"
          ]
        }
      ]
    },
    {
      "cell_type": "code",
      "source": [
        "#Check if the string has any two-digit numbers, from 00 to 59:\n",
        "import re\n",
        "txt = \"8 times before 11:00 AM\"\n",
        "x = re.findall(\"[0-5][0-9]\", txt)\n",
        "print(x)\n",
        "if x:\n",
        "  print(\"Yes, there is at least one match!\")\n",
        "else:\n",
        "  print(\"No match\")"
      ],
      "metadata": {
        "colab": {
          "base_uri": "https://localhost:8080/"
        },
        "id": "RyICkESuSdb0",
        "outputId": "dde9438d-7b57-47bb-a819-b899c3d8f6ec"
      },
      "execution_count": 41,
      "outputs": [
        {
          "output_type": "stream",
          "name": "stdout",
          "text": [
            "['11', '00']\n",
            "Yes, there is at least one match!\n"
          ]
        }
      ]
    },
    {
      "cell_type": "code",
      "source": [
        "#Check if the string has any characters from a to z lower case, and A to Z upper case:\n",
        "import re\n",
        "txt = \"8 times before 11:00 AM\"\n",
        "x = re.findall(\"[a-zA-Z]\", txt)\n",
        "print(x)\n",
        "if x:\n",
        "  print(\"Yes, there is at least one match!\")\n",
        "else:\n",
        "  print(\"No match\")"
      ],
      "metadata": {
        "colab": {
          "base_uri": "https://localhost:8080/"
        },
        "id": "0LwI2S5zSgKc",
        "outputId": "1de64275-1183-46bf-8c18-94052697ed14"
      },
      "execution_count": 42,
      "outputs": [
        {
          "output_type": "stream",
          "name": "stdout",
          "text": [
            "['t', 'i', 'm', 'e', 's', 'b', 'e', 'f', 'o', 'r', 'e', 'A', 'M']\n",
            "Yes, there is at least one match!\n"
          ]
        }
      ]
    },
    {
      "cell_type": "code",
      "source": [
        "#Check if the string has any + characters:\n",
        "import re\n",
        "txt = \"8 times before 12:45 AM\"\n",
        "x = re.findall(\"[+]\", txt)\n",
        "print(x)\n",
        "if x:\n",
        "  print(\"Yes, there is at least one match!\")\n",
        "else:\n",
        "  print(\"No match\")"
      ],
      "metadata": {
        "colab": {
          "base_uri": "https://localhost:8080/"
        },
        "id": "53wH9UjWSk5U",
        "outputId": "d6bcc05e-534a-4f82-8a08-12f77623b946"
      },
      "execution_count": 43,
      "outputs": [
        {
          "output_type": "stream",
          "name": "stdout",
          "text": [
            "[]\n",
            "No match\n"
          ]
        }
      ]
    },
    {
      "cell_type": "code",
      "source": [
        "## Findall Function\n",
        "import re\n",
        "txt = \"Spain\"\n",
        "x = re.findall(\"ai\", txt)\n",
        "print(x)"
      ],
      "metadata": {
        "colab": {
          "base_uri": "https://localhost:8080/"
        },
        "id": "NP9uV6mUSn2E",
        "outputId": "9b46b4fc-3397-4619-8c68-4c2e74410df5"
      },
      "execution_count": 44,
      "outputs": [
        {
          "output_type": "stream",
          "name": "stdout",
          "text": [
            "['ai']\n"
          ]
        }
      ]
    },
    {
      "cell_type": "code",
      "source": [
        "## Return an empty list if no match was found:\n",
        "import re\n",
        "txt = \"The rain in Spain\"\n",
        "x = re.findall(\"Portugal\", txt)\n",
        "print(x)"
      ],
      "metadata": {
        "colab": {
          "base_uri": "https://localhost:8080/"
        },
        "id": "w07Gmb8-SrF8",
        "outputId": "9ef16e6d-84cd-426f-c3dc-b005537d45e7"
      },
      "execution_count": 45,
      "outputs": [
        {
          "output_type": "stream",
          "name": "stdout",
          "text": [
            "[]\n"
          ]
        }
      ]
    },
    {
      "cell_type": "code",
      "source": [
        "## sub function\n",
        "import re\n",
        "txt = \"The rain in Spain\"\n",
        "x = re.sub(\"\\s\", \"9\", txt)\n",
        "print(x)"
      ],
      "metadata": {
        "colab": {
          "base_uri": "https://localhost:8080/"
        },
        "id": "E4ZRujJ8SuDk",
        "outputId": "f3d75ecb-0a0b-46f0-8fc1-217e52096a75"
      },
      "execution_count": 46,
      "outputs": [
        {
          "output_type": "stream",
          "name": "stdout",
          "text": [
            "The9rain9in9Spain\n"
          ]
        }
      ]
    },
    {
      "cell_type": "code",
      "source": [
        "## Replace the first 2 occurrences:\n",
        "import re\n",
        "txt = \"The rain in Spain\"\n",
        "x = re.sub(\"\\s\", \"9\", txt, 2)\n",
        "print(x)"
      ],
      "metadata": {
        "colab": {
          "base_uri": "https://localhost:8080/"
        },
        "id": "IYKVkk5lSw0s",
        "outputId": "6296d9e0-0d48-4a14-c538-ae23e903258a"
      },
      "execution_count": 47,
      "outputs": [
        {
          "output_type": "stream",
          "name": "stdout",
          "text": [
            "The9rain9in Spain\n"
          ]
        }
      ]
    },
    {
      "cell_type": "code",
      "source": [
        "## Match function\n",
        "import re\n",
        "txt = \"The rain in Spain\"\n",
        "x = re.search(\"ai\", txt)\n",
        "print(x) #this will print an object"
      ],
      "metadata": {
        "colab": {
          "base_uri": "https://localhost:8080/"
        },
        "id": "i0_4XDBpSzqN",
        "outputId": "f67b4074-83fc-48a6-d0d4-a96574b1be7c"
      },
      "execution_count": 48,
      "outputs": [
        {
          "output_type": "stream",
          "name": "stdout",
          "text": [
            "<re.Match object; span=(5, 7), match='ai'>\n"
          ]
        }
      ]
    },
    {
      "cell_type": "code",
      "source": [
        "## Print the position (start- and end-position) of the first match occurrence.\n",
        "import re\n",
        "txt = \"The rain in Spain\"\n",
        "x = re.search(r\"\\bS\\w+\", txt)\n",
        "print(x.span())"
      ],
      "metadata": {
        "colab": {
          "base_uri": "https://localhost:8080/"
        },
        "id": "lYzj-Eb0S3Hu",
        "outputId": "8fcc069e-ff21-42ea-daa8-3fc8df03d93b"
      },
      "execution_count": 49,
      "outputs": [
        {
          "output_type": "stream",
          "name": "stdout",
          "text": [
            "(12, 17)\n"
          ]
        }
      ]
    },
    {
      "cell_type": "code",
      "source": [
        "## Print the string passed into the function:\n",
        "import re\n",
        "txt = \"The rain in Spain\"\n",
        "x = re.search(r\"\\bS\\w+\", txt)\n",
        "print(x.string)"
      ],
      "metadata": {
        "colab": {
          "base_uri": "https://localhost:8080/"
        },
        "id": "MDRXyIIIS6Ce",
        "outputId": "c54c01cc-e22b-4847-ccfb-27c56494bb7c"
      },
      "execution_count": 50,
      "outputs": [
        {
          "output_type": "stream",
          "name": "stdout",
          "text": [
            "The rain in Spain\n"
          ]
        }
      ]
    },
    {
      "cell_type": "code",
      "source": [
        "## Print the part of the string where there was a match.\n",
        "import re\n",
        "txt = \"The rain in Spain\"\n",
        "x = re.search(r\"\\bS\\w+\", txt)\n",
        "print(x.group()) "
      ],
      "metadata": {
        "colab": {
          "base_uri": "https://localhost:8080/"
        },
        "id": "V0hDyNIaS-yF",
        "outputId": "610f01c6-6d6b-4fec-e500-88c8e5ce6740"
      },
      "execution_count": 51,
      "outputs": [
        {
          "output_type": "stream",
          "name": "stdout",
          "text": [
            "Spain\n"
          ]
        }
      ]
    }
  ]
}